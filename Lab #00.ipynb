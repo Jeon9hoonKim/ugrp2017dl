{
 "cells": [
  {
   "cell_type": "markdown",
   "metadata": {},
   "source": [
    "# Lab #00: 개발환경설정\n",
    "\n",
    "## 1. anaconda로 python 개발환경 설정하기\n",
    "\n",
    "[Anaconda download page](https://www.continuum.io/downloads)에 접속하여, 사용하는 OS에 맞는 python 설치파일을 다운로드 받아 설치한다.\n",
    "\n",
    "3.6 버전과 2.7 버전이 있는데, 어떤 버전을 사용해도 무방하다. tensorflow 0.9 버전에서는 공식적으로 python 2.7 버전만 지원이 됐는데, tensorflow 1.0버전부터는 python 3.3 이상의 버전도 지원이 된다.\n",
    "\n",
    "다만 python 3.x 버전이 지원되기 시작한지 얼마되지 않았기 때문에, tensorflow의 예제 파일들이 python 2.7 기존으로 개발된 것들이 많아, 당분간은 python 2.7을 사용하는 것이 편할 수 있다. 그렇지만 print문을 print() 함수로 변경하면 해결이 된다. 예를 들어, 아래와 같은 print문이 있는 경우,\n",
    "\n",
    "```python\n",
    "print \"Hello, world!\" # python 2 style print statement\n",
    "```\n",
    "\n",
    "아래와 같이 print() 함수로 변경을 하면 대부분의 코드가 작동한다.\n",
    "```python\n",
    "print(\"Hello, world!\") # python 3 style print() function\n",
    "```"
   ]
  },
  {
   "cell_type": "markdown",
   "metadata": {},
   "source": [
    "## 2. anaconda에서 tensorflow 환경 설정하기\n",
    "\n",
    "python에서 개발하는 프로젝트에 따라, 독립적인 개발환경을 갖추어야 되는 경우가 많다. 예를 들어, tensorflow를 이용하여 deep learning 분석툴을 사용할 경우와 django/flask 등을 이용하여 web application을 개발할 때는 사용하는 패키지, 환경 설정 등에 차이를 보일 수 있다.\n",
    "\n",
    "이를 위해서 python에서는 virtualenv라는 가상환경을 지원하고, anaconda는 이와 유사한 conda environment를 제공한다. deep learning 개발환경은 다른 개발환경과 독립적으로 만들어 놓는 것이 권장된다.\n",
    "\n",
    "Linux 혹은 macOS에서는 터미널 프로그램을 실행하고, Windows에서는 커맨드 창을 실행하여 CLI (Commanmd Line Interface) 환경을 사용한다. Linux 혹은 macOS에서는 Terminal 등의 어플리케이션을 사용하고, Windows에서는 cmd.exe를 사용한다.\n",
    "\n",
    "구체적인 인스톨 방법은 [Installing Tensorflow](https://www.tensorflow.org/install/)에서 사용하는 OS를 참고한다. 이 때 'Installing with Anaconda' 밑의 section을 참고하면 된다."
   ]
  },
  {
   "cell_type": "markdown",
   "metadata": {},
   "source": [
    "## 3. 설치 확인\n",
    "\n",
    "CLI 환경에서 python shell을 사용하여 tensorflow가 잘 설치되어 있는지 확인한다. 1.0.x 대의 버전이 설치된 것을 확인한다.\n",
    "\n",
    "```\n",
    "$ source activate tensorflow\n",
    "(tensorflow) $ python\n",
    "Python 3.5.2 |Continuum Analytics, Inc.| (default, Jul  2 2016, 17:53:06) \n",
    "[GCC 4.4.7 20120313 (Red Hat 4.4.7-1)] on linux\n",
    "Type \"help\", \"copyright\", \"credits\" or \"license\" for more information.\n",
    ">>> import tensorflow as tf\n",
    ">>> print(tf.__version__)\n",
    "1.0.1\n",
    ">>> \n",
    "```\n"
   ]
  },
  {
   "cell_type": "code",
   "execution_count": 1,
   "metadata": {
    "collapsed": false
   },
   "outputs": [
    {
     "name": "stdout",
     "output_type": "stream",
     "text": [
      "1.0.1\n"
     ]
    }
   ],
   "source": [
    "import tensorflow as tf\n",
    "print(tf.__version__)"
   ]
  }
 ],
 "metadata": {
  "kernelspec": {
   "display_name": "Python [tensorflow]",
   "language": "python",
   "name": "Python [tensorflow]"
  },
  "language_info": {
   "codemirror_mode": {
    "name": "ipython",
    "version": 3
   },
   "file_extension": ".py",
   "mimetype": "text/x-python",
   "name": "python",
   "nbconvert_exporter": "python",
   "pygments_lexer": "ipython3",
   "version": "3.5.2"
  }
 },
 "nbformat": 4,
 "nbformat_minor": 2
}
